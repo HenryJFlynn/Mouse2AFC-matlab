{
 "metadata": {
  "language_info": {
   "codemirror_mode": {
    "name": "ipython",
    "version": 3
   },
   "file_extension": ".py",
   "mimetype": "text/x-python",
   "name": "python",
   "nbconvert_exporter": "python",
   "pygments_lexer": "ipython3",
   "version": "3.7.6-final"
  },
  "orig_nbformat": 2,
  "kernelspec": {
   "name": "python3",
   "display_name": "Python 3",
   "language": "python"
  }
 },
 "nbformat": 4,
 "nbformat_minor": 2,
 "cells": [
  {
   "cell_type": "code",
   "execution_count": 87,
   "metadata": {},
   "outputs": [
    {
     "output_type": "stream",
     "name": "stdout",
     "text": [
      "\nCurrent perf:: Easy: 100% - Med: 75% - Hard: 60%\nNew Difficulties: Easy: 100% cohr - Med: 12% cohr - Hard: 3% cohr\nDifficulties arr: Easy: ['38%', '24%', '21%', '32%', '31%'] - Med: ['8%', '14%', '15%', '11%', '11%'] - Hard: ['5%', '4%', '1%', '4%', '5%']\n\nCurrent perf:: Easy: 100% - Med: 65.6509492096124% - Hard: 56.143930639280754%\nNew Difficulties: Easy: 100% cohr - Med: 15% cohr - Hard: 5% cohr\nDifficulties arr: Easy: ['62%', '41%', '70%', '53%', '74%'] - Med: ['13%', '19%', '12%', '15%', '17%'] - Hard: ['3%', '5%', '3%', '4%', '4%']\n\nCurrent perf:: Easy: 99.88510861194864% - Med: 65.38108790817907% - Hard: 56.636562052739166%\nNew Difficulties: Easy: 100% cohr - Med: 18% cohr - Hard: 7% cohr\nDifficulties arr: Easy: ['58%', '51%', '90%', '43%', '91%'] - Med: ['20%', '20%', '14%', '15%', '20%'] - Hard: ['9%', '6%', '7%', '8%', '5%']\n\nCurrent perf:: Easy: 100% - Med: 78.30887213022672% - Hard: 55.838695720142745%\nNew Difficulties: Easy: 100% cohr - Med: 15% cohr - Hard: 9% cohr\nDifficulties arr: Easy: ['33%', '33%', '67%', '69%', '76%'] - Med: ['12%', '14%', '12%', '17%', '18%'] - Hard: ['7%', '10%', '7%', '9%', '7%']\n\nCurrent perf:: Easy: 95.98643805471337% - Med: 82.24517515494531% - Hard: 54.29228754848915%\nNew Difficulties: Easy: 100% cohr - Med: 12% cohr - Hard: 6% cohr\nDifficulties arr: Easy: ['62%', '73%', '40%', '100%', '39%'] - Med: ['9%', '15%', '12%', '14%', '9%'] - Hard: ['9%', '9%', '10%', '9%', '10%']\n\nCurrent perf:: Easy: 99.44995640274296% - Med: 75.21635819940929% - Hard: 57.31015776152352%\nNew Difficulties: Easy: 100% cohr - Med: 9% cohr - Hard: 6% cohr\nDifficulties arr: Easy: ['70%', '38%', '20%', '54%', '74%'] - Med: ['10%', '8%', '12%', '10%', '9%'] - Hard: ['6%', '7%', '6%', '7%', '7%']\n\nCurrent perf:: Easy: 99.29748711072834% - Med: 82.14131179871985% - Hard: 50.48979003195752%\nNew Difficulties: Easy: 100% cohr - Med: 9% cohr - Hard: 6% cohr\nDifficulties arr: Easy: ['54%', '87%', '25%', '98%', '51%'] - Med: ['8%', '10%', '10%', '8%', '8%'] - Hard: ['7%', '7%', '6%', '6%', '7%']\n\nCurrent perf:: Easy: 100% - Med: 79.91171359264978% - Hard: 57.87369037977098%\nNew Difficulties: Easy: 100% cohr - Med: 9% cohr - Hard: 6% cohr\nDifficulties arr: Easy: ['23%', '26%', '37%', '33%', '25%'] - Med: ['9%', '10%', '8%', '8%', '10%'] - Hard: ['7%', '7%', '7%', '7%', '6%']\n\nCurrent perf:: Easy: 100% - Med: 79.89698749717036% - Hard: 57.470043559558555%\nNew Difficulties: Easy: 100% cohr - Med: 9% cohr - Hard: 6% cohr\nDifficulties arr: Easy: ['84%', '80%', '48%', '78%', '44%'] - Med: ['9%', '10%', '8%', '9%', '10%'] - Hard: ['6%', '6%', '6%', '6%', '7%']\n\nCurrent perf:: Easy: 90.36518539361502% - Med: 71.32192643855888% - Hard: 53.81163526722181%\nNew Difficulties: Easy: 100% cohr - Med: 12% cohr - Hard: 6% cohr\nDifficulties arr: Easy: ['91%', '75%', '26%', '80%', '88%'] - Med: ['13%', '10%', '10%', '9%', '16%'] - Hard: ['6%', '7%', '6%', '7%', '6%']\n"
     ]
    }
   ],
   "source": [
    "from enum import IntEnum\n",
    "class IntEnumShortStr(IntEnum):\n",
    "  def __str__(self):\n",
    "    return self.name\n",
    "\n",
    "  def __format__(self, fmt):\n",
    "    return self.__str__()\n",
    "\n",
    "\n",
    "EACH_GROUP_SIZE=5\n",
    "TOTAL_GROUPS_SIZE=EACH_GROUP_SIZE*3\n",
    "class Difficulty(IntEnumShortStr):\n",
    "  Easy = 1\n",
    "  Med = 2\n",
    "  Hard = 3\n",
    "\n",
    "# For Easy, many values are just to keep the algorithm happy\n",
    "DiffThresh = {Difficulty.Easy:100, Difficulty.Med:75, Difficulty.Hard:60}\n",
    "DiffLimits = {Difficulty.Easy:100, Difficulty.Med:4, Difficulty.Hard:2}\n",
    "DiffGain = {Difficulty.Easy:0, Difficulty.Med:3, Difficulty.Hard:2}\n",
    "\n",
    "from random import randint\n",
    "def generateNextBatch(prev_difficulties_dict, cur_perf_dict):\n",
    "  def createDiff(diff, range_lim_lo, range_lim_hi):\n",
    "    new_diff = prev_difficulties_dict[diff] + \\\n",
    "               (1 if cur_perf_dict[diff] < DiffThresh[diff] else -1)*DiffGain[diff]\n",
    "    lo_lim, hi_lim = new_diff - DiffLimits[diff], new_diff + DiffLimits[diff]\n",
    "    lo_lim, hi_lim = max(lo_lim, range_lim_lo, 0), min(hi_lim, range_lim_hi, 100)\n",
    "    if lo_lim > hi_lim:\n",
    "        hi_lim = min(lo_lim+1, 100)\n",
    "    new_diff = min(max(range_lim_lo+1, new_diff), range_lim_hi-1)\n",
    "    #print(f\"Difficulty: {diff} - old_diff: {prev_difficulties_dict[diff]} - new_diff: {new_diff} - \"\n",
    "    #      f\"Low lim: {lo_lim} - Hi lim: {hi_lim}\")\n",
    "    #print(\"Gain:\",(1 if cur_perf_dict[diff] < DiffThresh[diff] else -1)*DiffGain[diff])\n",
    "    new_diff_arr = []\n",
    "    for i in range(EACH_GROUP_SIZE):\n",
    "      new_diff_arr.append(randint(lo_lim, hi_lim))\n",
    "    return new_diff, new_diff_arr, (lo_lim, hi_lim)\n",
    "  # Start with medium difficulty\n",
    "  med_diff, med_diff_arr, (med_lo, med_hi) = createDiff(Difficulty.Med, 8, 50)\n",
    "  easy_diff, easy_diff_arr, _ = createDiff(Difficulty.Easy, med_hi + 5, 101)\n",
    "  hard_diff, hard_diff_arr, _ = createDiff(Difficulty.Hard, 0, med_lo-1)\n",
    "  new_difficulties_dict = {\n",
    "    Difficulty.Easy:easy_diff,\n",
    "    Difficulty.Med:med_diff,\n",
    "    Difficulty.Hard:hard_diff,\n",
    "  }\n",
    "  difficulties_arr_dict = {\n",
    "    Difficulty.Easy:easy_diff_arr,\n",
    "    Difficulty.Med:med_diff_arr,\n",
    "    Difficulty.Hard:hard_diff_arr,\n",
    "  }\n",
    "  return new_difficulties_dict, difficulties_arr_dict\n",
    "\n",
    "def test():\n",
    "  prev_difficulties_dict = {Difficulty.Easy:100, Difficulty.Med:15, Difficulty.Hard:5}\n",
    "  cur_perf_dict = DiffThresh.copy()\n",
    "  from numpy.random import normal\n",
    "  for i in range(10):\n",
    "    print(f\"\\nCurrent perf:: {' - '.join([f'{diff}: {perf}%' for diff, perf in cur_perf_dict.items()])}\")\n",
    "    new_difficulties_dict, difficulties_arr_dict = generateNextBatch(prev_difficulties_dict, cur_perf_dict)\n",
    "    print(f\"New Difficulties: {' - '.join([f'{diff}: {cohr}% cohr' for diff, cohr in new_difficulties_dict.items()])}\")\n",
    "    _ = \"%\"\n",
    "    print(f\"Difficulties arr: {' - '.join([f'{diff}: {[(str(cohr)+_) for cohr in arr]}' for diff, arr in difficulties_arr_dict.items()])}\")\n",
    "    prev_difficulties_dict = new_difficulties_dict\n",
    "    cur_perf_dict = {Difficulty.Easy:min(100, DiffThresh[Difficulty.Easy] + normal(0,5)),\n",
    "                     Difficulty.Med:DiffThresh[Difficulty.Med] + normal(0,5),\n",
    "                     Difficulty.Hard:max(40, DiffThresh[Difficulty.Hard] + normal(0,5))}\n",
    "\n",
    "test()"
   ]
  },
  {
   "cell_type": "code",
   "execution_count": 88,
   "metadata": {},
   "outputs": [
    {
     "output_type": "stream",
     "name": "stdout",
     "text": [
      "[100.35580255 100.23884514 100.27082571 100.20334126 100.62927945]\nEvaluated Perf: Easy: 100.0% cohr - Med: 60.0% cohr - Hard: 80.0% cohr\nNew Difficulties: Easy: 100% cohr - Med: 18% cohr - Hard: 3% cohr\nDifficulties arr: Easy: ['88%', '35%', '89%', '34%', '62%'] - Med: ['21%', '19%', '20%', '17%', '14%'] - Hard: ['3%', '1%', '2%', '4%', '3%']\nEvaluated Perf: Easy: 100.0% cohr - Med: 100.0% cohr - Hard: 60.0% cohr\nNew Difficulties: Easy: 100% cohr - Med: 15% cohr - Hard: 1% cohr\nDifficulties arr: Easy: ['27%', '43%', '99%', '71%', '43%'] - Med: ['15%', '14%', '19%', '13%', '19%'] - Hard: ['3%', '3%', '0%', '2%', '1%']\nEvaluated Perf: Easy: 100.0% cohr - Med: 40.0% cohr - Hard: 40.0% cohr\nNew Difficulties: Easy: 100% cohr - Med: 18% cohr - Hard: 3% cohr\nDifficulties arr: Easy: ['85%', '34%', '91%', '77%', '32%'] - Med: ['20%', '14%', '18%', '18%', '15%'] - Hard: ['1%', '5%', '2%', '4%', '3%']\nEvaluated Perf: Easy: 100.0% cohr - Med: 40.0% cohr - Hard: 40.0% cohr\nNew Difficulties: Easy: 100% cohr - Med: 21% cohr - Hard: 5% cohr\nDifficulties arr: Easy: ['69%', '98%', '68%', '39%', '95%'] - Med: ['20%', '18%', '23%', '19%', '23%'] - Hard: ['3%', '7%', '4%', '3%', '6%']\nEvaluated Perf: Easy: 100.0% cohr - Med: 100.0% cohr - Hard: 80.0% cohr\nNew Difficulties: Easy: 100% cohr - Med: 18% cohr - Hard: 3% cohr\nDifficulties arr: Easy: ['44%', '44%', '84%', '81%', '75%'] - Med: ['14%', '18%', '16%', '19%', '16%'] - Hard: ['3%', '1%', '1%', '2%', '5%']\nEvaluated Perf: Easy: 100.0% cohr - Med: 100.0% cohr - Hard: 80.0% cohr\nNew Difficulties: Easy: 100% cohr - Med: 15% cohr - Hard: 1% cohr\nDifficulties arr: Easy: ['98%', '66%', '86%', '77%', '69%'] - Med: ['17%', '11%', '11%', '11%', '19%'] - Hard: ['0%', '1%', '0%', '2%', '3%']\nEvaluated Perf: Easy: 80.0% cohr - Med: 80.0% cohr - Hard: 60.0% cohr\nNew Difficulties: Easy: 100% cohr - Med: 12% cohr - Hard: 1% cohr\nDifficulties arr: Easy: ['51%', '29%', '54%', '82%', '36%'] - Med: ['13%', '8%', '16%', '12%', '8%'] - Hard: ['0%', '0%', '1%', '1%', '1%']\nEvaluated Perf: Easy: 100.0% cohr - Med: 60.0% cohr - Hard: 60.0% cohr\nNew Difficulties: Easy: 100% cohr - Med: 15% cohr - Hard: 1% cohr\nDifficulties arr: Easy: ['31%', '69%', '81%', '96%', '51%'] - Med: ['16%', '15%', '17%', '11%', '11%'] - Hard: ['0%', '1%', '0%', '0%', '1%']\nEvaluated Perf: Easy: 80.0% cohr - Med: 80.0% cohr - Hard: 80.0% cohr\nNew Difficulties: Easy: 100% cohr - Med: 12% cohr - Hard: 1% cohr\nDifficulties arr: Easy: ['28%', '31%', '86%', '45%', '72%'] - Med: ['11%', '12%', '8%', '8%', '12%'] - Hard: ['0%', '1%', '0%', '0%', '0%']\nEvaluated Perf: Easy: 100.0% cohr - Med: 60.0% cohr - Hard: 40.0% cohr\nNew Difficulties: Easy: 100% cohr - Med: 15% cohr - Hard: 3% cohr\nDifficulties arr: Easy: ['46%', '88%', '34%', '61%', '50%'] - Med: ['17%', '15%', '16%', '11%', '18%'] - Hard: ['2%', '3%', '2%', '4%', '1%']\n"
     ]
    }
   ],
   "source": [
    "def evaluateBatchPerf(trials):\n",
    "  choices_by_diff = {Difficulty.Easy:[], Difficulty.Med:[], Difficulty.Hard:[]}\n",
    "  for trial in trials:\n",
    "    choices_by_diff[trial.Difficulty].append(1 if trial.Correct else 0)\n",
    "  perf = {}\n",
    "  for diff in Difficulty:\n",
    "    perf[diff] = 100.0*sum(choices_by_diff[diff])/len(choices_by_diff[diff])\n",
    "  return perf\n",
    "\n",
    "def test():\n",
    "  prev_difficulties_dict = {Difficulty.Easy:100, Difficulty.Med:15, Difficulty.Hard:5}\n",
    "  import numpy as np\n",
    "  from numpy.random import rand\n",
    "  print(rand(5) + DiffThresh[Difficulty.Easy])\n",
    "  class Trial:\n",
    "    def __init__(self, diff, correct):\n",
    "      self.Difficulty = diff\n",
    "      self.Correct = correct\n",
    "  for i in range(10):\n",
    "    theshs = [(Difficulty.Easy, 0.95), (Difficulty.Med, 0.75), (Difficulty.Hard, 0.6)]\n",
    "    trials = [Trial(diff, is_correct) for diff, thresh in theshs for is_correct in (rand(EACH_GROUP_SIZE) < thresh)]\n",
    "    #print(f\"\\nCurrent perf:: {' - '.join([f'{trial.Difficulty}: {trial.Correct}' for trial in trials])}\")\n",
    "    batch_perf = evaluateBatchPerf(trials)\n",
    "\n",
    "    ###\n",
    "    print(f\"Evaluated Perf: {' - '.join([f'{diff}: {perf}% cohr' for diff, perf in batch_perf.items()])}\")\n",
    "    new_difficulties_dict, difficulties_arr_dict = generateNextBatch(prev_difficulties_dict, batch_perf)\n",
    "    print(f\"New Difficulties: {' - '.join([f'{diff}: {cohr}% cohr' for diff, cohr in new_difficulties_dict.items()])}\")\n",
    "    _ = \"%\"\n",
    "    print(f\"Difficulties arr: {' - '.join([f'{diff}: {[(str(cohr)+_) for cohr in arr]}' for diff, arr in difficulties_arr_dict.items()])}\")\n",
    "    prev_difficulties_dict = new_difficulties_dict\n",
    "test()"
   ]
  }
 ]
}